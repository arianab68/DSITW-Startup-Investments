{
 "cells": [
  {
   "cell_type": "markdown",
   "id": "4776613a",
   "metadata": {},
   "source": [
    "## Data Import & EDA"
   ]
  },
  {
   "cell_type": "code",
   "execution_count": 1,
   "id": "ae9b2fa0",
   "metadata": {},
   "outputs": [],
   "source": [
    "import pandas as pd\n",
    "import os\n",
    "from functools import reduce"
   ]
  },
  {
   "cell_type": "code",
   "execution_count": 2,
   "id": "09269a5f",
   "metadata": {},
   "outputs": [],
   "source": [
    "data = pd.read_csv('/Users/ariana/Desktop/investments_VC.csv')"
   ]
  },
  {
   "cell_type": "code",
   "execution_count": 3,
   "id": "ad90d595",
   "metadata": {
    "scrolled": true
   },
   "outputs": [
    {
     "name": "stdout",
     "output_type": "stream",
     "text": [
      "<class 'pandas.core.frame.DataFrame'>\n",
      "RangeIndex: 49438 entries, 0 to 49437\n",
      "Data columns (total 39 columns):\n",
      " #   Column                Non-Null Count  Dtype  \n",
      "---  ------                --------------  -----  \n",
      " 0   permalink             49438 non-null  object \n",
      " 1   name                  49437 non-null  object \n",
      " 2   homepage_url          45989 non-null  object \n",
      " 3   category_list         45477 non-null  object \n",
      " 4    market               45470 non-null  object \n",
      " 5    funding_total_usd    49438 non-null  object \n",
      " 6   status                48124 non-null  object \n",
      " 7   country_code          44165 non-null  object \n",
      " 8   state_code            30161 non-null  object \n",
      " 9   region                44165 non-null  object \n",
      " 10  city                  43322 non-null  object \n",
      " 11  funding_rounds        49438 non-null  int64  \n",
      " 12  founded_at            38554 non-null  object \n",
      " 13  founded_month         38482 non-null  object \n",
      " 14  founded_quarter       38482 non-null  object \n",
      " 15  founded_year          38482 non-null  float64\n",
      " 16  first_funding_at      49438 non-null  object \n",
      " 17  last_funding_at       49438 non-null  object \n",
      " 18  seed                  49438 non-null  int64  \n",
      " 19  venture               49438 non-null  int64  \n",
      " 20  equity_crowdfunding   49438 non-null  int64  \n",
      " 21  undisclosed           49438 non-null  int64  \n",
      " 22  convertible_note      49438 non-null  int64  \n",
      " 23  debt_financing        49438 non-null  int64  \n",
      " 24  angel                 49438 non-null  int64  \n",
      " 25  grant                 49438 non-null  int64  \n",
      " 26  private_equity        49438 non-null  int64  \n",
      " 27  post_ipo_equity       49438 non-null  int64  \n",
      " 28  post_ipo_debt         49438 non-null  int64  \n",
      " 29  secondary_market      49438 non-null  int64  \n",
      " 30  product_crowdfunding  49438 non-null  int64  \n",
      " 31  round_A               49438 non-null  int64  \n",
      " 32  round_B               49438 non-null  int64  \n",
      " 33  round_C               49438 non-null  int64  \n",
      " 34  round_D               49438 non-null  int64  \n",
      " 35  round_E               49438 non-null  int64  \n",
      " 36  round_F               49438 non-null  int64  \n",
      " 37  round_G               49438 non-null  int64  \n",
      " 38  round_H               49438 non-null  int64  \n",
      "dtypes: float64(1), int64(22), object(16)\n",
      "memory usage: 14.7+ MB\n"
     ]
    }
   ],
   "source": [
    "data.info()"
   ]
  },
  {
   "cell_type": "code",
   "execution_count": 4,
   "id": "07e1e7aa",
   "metadata": {
    "scrolled": false
   },
   "outputs": [
    {
     "data": {
      "text/html": [
       "<div>\n",
       "<style scoped>\n",
       "    .dataframe tbody tr th:only-of-type {\n",
       "        vertical-align: middle;\n",
       "    }\n",
       "\n",
       "    .dataframe tbody tr th {\n",
       "        vertical-align: top;\n",
       "    }\n",
       "\n",
       "    .dataframe thead th {\n",
       "        text-align: right;\n",
       "    }\n",
       "</style>\n",
       "<table border=\"1\" class=\"dataframe\">\n",
       "  <thead>\n",
       "    <tr style=\"text-align: right;\">\n",
       "      <th></th>\n",
       "      <th>permalink</th>\n",
       "      <th>name</th>\n",
       "      <th>homepage_url</th>\n",
       "      <th>category_list</th>\n",
       "      <th>market</th>\n",
       "      <th>funding_total_usd</th>\n",
       "      <th>status</th>\n",
       "      <th>country_code</th>\n",
       "      <th>state_code</th>\n",
       "      <th>region</th>\n",
       "      <th>...</th>\n",
       "      <th>secondary_market</th>\n",
       "      <th>product_crowdfunding</th>\n",
       "      <th>round_A</th>\n",
       "      <th>round_B</th>\n",
       "      <th>round_C</th>\n",
       "      <th>round_D</th>\n",
       "      <th>round_E</th>\n",
       "      <th>round_F</th>\n",
       "      <th>round_G</th>\n",
       "      <th>round_H</th>\n",
       "    </tr>\n",
       "  </thead>\n",
       "  <tbody>\n",
       "    <tr>\n",
       "      <th>0</th>\n",
       "      <td>/organization/waywire</td>\n",
       "      <td>#waywire</td>\n",
       "      <td>http://www.waywire.com</td>\n",
       "      <td>|Entertainment|Politics|Social Media|News|</td>\n",
       "      <td>News</td>\n",
       "      <td>17,50,000</td>\n",
       "      <td>acquired</td>\n",
       "      <td>USA</td>\n",
       "      <td>NY</td>\n",
       "      <td>New York City</td>\n",
       "      <td>...</td>\n",
       "      <td>0</td>\n",
       "      <td>0</td>\n",
       "      <td>0</td>\n",
       "      <td>0</td>\n",
       "      <td>0</td>\n",
       "      <td>0</td>\n",
       "      <td>0</td>\n",
       "      <td>0</td>\n",
       "      <td>0</td>\n",
       "      <td>0</td>\n",
       "    </tr>\n",
       "    <tr>\n",
       "      <th>1</th>\n",
       "      <td>/organization/tv-communications</td>\n",
       "      <td>&amp;TV Communications</td>\n",
       "      <td>http://enjoyandtv.com</td>\n",
       "      <td>|Games|</td>\n",
       "      <td>Games</td>\n",
       "      <td>40,00,000</td>\n",
       "      <td>operating</td>\n",
       "      <td>USA</td>\n",
       "      <td>CA</td>\n",
       "      <td>Los Angeles</td>\n",
       "      <td>...</td>\n",
       "      <td>0</td>\n",
       "      <td>0</td>\n",
       "      <td>0</td>\n",
       "      <td>0</td>\n",
       "      <td>0</td>\n",
       "      <td>0</td>\n",
       "      <td>0</td>\n",
       "      <td>0</td>\n",
       "      <td>0</td>\n",
       "      <td>0</td>\n",
       "    </tr>\n",
       "    <tr>\n",
       "      <th>2</th>\n",
       "      <td>/organization/rock-your-paper</td>\n",
       "      <td>'Rock' Your Paper</td>\n",
       "      <td>http://www.rockyourpaper.org</td>\n",
       "      <td>|Publishing|Education|</td>\n",
       "      <td>Publishing</td>\n",
       "      <td>40,000</td>\n",
       "      <td>operating</td>\n",
       "      <td>EST</td>\n",
       "      <td>NaN</td>\n",
       "      <td>Tallinn</td>\n",
       "      <td>...</td>\n",
       "      <td>0</td>\n",
       "      <td>0</td>\n",
       "      <td>0</td>\n",
       "      <td>0</td>\n",
       "      <td>0</td>\n",
       "      <td>0</td>\n",
       "      <td>0</td>\n",
       "      <td>0</td>\n",
       "      <td>0</td>\n",
       "      <td>0</td>\n",
       "    </tr>\n",
       "    <tr>\n",
       "      <th>3</th>\n",
       "      <td>/organization/in-touch-network</td>\n",
       "      <td>(In)Touch Network</td>\n",
       "      <td>http://www.InTouchNetwork.com</td>\n",
       "      <td>|Electronics|Guides|Coffee|Restaurants|Music|i...</td>\n",
       "      <td>Electronics</td>\n",
       "      <td>15,00,000</td>\n",
       "      <td>operating</td>\n",
       "      <td>GBR</td>\n",
       "      <td>NaN</td>\n",
       "      <td>London</td>\n",
       "      <td>...</td>\n",
       "      <td>0</td>\n",
       "      <td>0</td>\n",
       "      <td>0</td>\n",
       "      <td>0</td>\n",
       "      <td>0</td>\n",
       "      <td>0</td>\n",
       "      <td>0</td>\n",
       "      <td>0</td>\n",
       "      <td>0</td>\n",
       "      <td>0</td>\n",
       "    </tr>\n",
       "    <tr>\n",
       "      <th>4</th>\n",
       "      <td>/organization/r-ranch-and-mine</td>\n",
       "      <td>-R- Ranch and Mine</td>\n",
       "      <td>NaN</td>\n",
       "      <td>|Tourism|Entertainment|Games|</td>\n",
       "      <td>Tourism</td>\n",
       "      <td>60,000</td>\n",
       "      <td>operating</td>\n",
       "      <td>USA</td>\n",
       "      <td>TX</td>\n",
       "      <td>Dallas</td>\n",
       "      <td>...</td>\n",
       "      <td>0</td>\n",
       "      <td>0</td>\n",
       "      <td>0</td>\n",
       "      <td>0</td>\n",
       "      <td>0</td>\n",
       "      <td>0</td>\n",
       "      <td>0</td>\n",
       "      <td>0</td>\n",
       "      <td>0</td>\n",
       "      <td>0</td>\n",
       "    </tr>\n",
       "  </tbody>\n",
       "</table>\n",
       "<p>5 rows × 39 columns</p>\n",
       "</div>"
      ],
      "text/plain": [
       "                         permalink                name  \\\n",
       "0            /organization/waywire            #waywire   \n",
       "1  /organization/tv-communications  &TV Communications   \n",
       "2    /organization/rock-your-paper   'Rock' Your Paper   \n",
       "3   /organization/in-touch-network   (In)Touch Network   \n",
       "4   /organization/r-ranch-and-mine  -R- Ranch and Mine   \n",
       "\n",
       "                    homepage_url  \\\n",
       "0         http://www.waywire.com   \n",
       "1          http://enjoyandtv.com   \n",
       "2   http://www.rockyourpaper.org   \n",
       "3  http://www.InTouchNetwork.com   \n",
       "4                            NaN   \n",
       "\n",
       "                                       category_list        market   \\\n",
       "0         |Entertainment|Politics|Social Media|News|          News    \n",
       "1                                            |Games|         Games    \n",
       "2                             |Publishing|Education|    Publishing    \n",
       "3  |Electronics|Guides|Coffee|Restaurants|Music|i...   Electronics    \n",
       "4                      |Tourism|Entertainment|Games|       Tourism    \n",
       "\n",
       "   funding_total_usd      status country_code state_code         region  ...  \\\n",
       "0           17,50,000   acquired          USA         NY  New York City  ...   \n",
       "1           40,00,000  operating          USA         CA    Los Angeles  ...   \n",
       "2              40,000  operating          EST        NaN        Tallinn  ...   \n",
       "3           15,00,000  operating          GBR        NaN         London  ...   \n",
       "4              60,000  operating          USA         TX         Dallas  ...   \n",
       "\n",
       "  secondary_market  product_crowdfunding round_A round_B round_C  round_D  \\\n",
       "0                0                     0       0       0       0        0   \n",
       "1                0                     0       0       0       0        0   \n",
       "2                0                     0       0       0       0        0   \n",
       "3                0                     0       0       0       0        0   \n",
       "4                0                     0       0       0       0        0   \n",
       "\n",
       "  round_E round_F  round_G  round_H  \n",
       "0       0       0        0        0  \n",
       "1       0       0        0        0  \n",
       "2       0       0        0        0  \n",
       "3       0       0        0        0  \n",
       "4       0       0        0        0  \n",
       "\n",
       "[5 rows x 39 columns]"
      ]
     },
     "execution_count": 4,
     "metadata": {},
     "output_type": "execute_result"
    }
   ],
   "source": [
    "data.head()"
   ]
  },
  {
   "cell_type": "markdown",
   "id": "5b8e3b30",
   "metadata": {},
   "source": [
    "The dataset contains information about various companies, including details like funding rounds, status, industry markets, and more, spread across 39 columns. These are some key columns that could be useful for a recommendation system for investors:\n",
    "\n",
    "1. name: The name of the company.\n",
    "2. market: The industry or market the company operates in.\n",
    "3. funding_total_usd: Total funding received, in USD.\n",
    "4. status: Current status of the company (e.g., operating, acquired).\n",
    "5. country_code: The country the company is based in.\n",
    "6. funding_rounds: Number of funding rounds.\n",
    "7. founded_at: The date the company was founded.\n",
    "8. Specific funding round columns (seed, venture, equity_crowdfunding, etc.).\n"
   ]
  },
  {
   "cell_type": "markdown",
   "id": "66319f06",
   "metadata": {},
   "source": [
    "### Goal: Create a Content-Based Recommendation system. \n",
    "\n",
    "This recommends companies based on similarity to other companies that an investor has shown interest in. This could use features like market, funding rounds, and total funding."
   ]
  },
  {
   "cell_type": "markdown",
   "id": "ad712ee5",
   "metadata": {},
   "source": [
    "Steps:\n",
    "\n",
    "1. Data Preprocessing: Handle missing values, convert data types appropriately (especially the funding_total_usd which is a string), and possibly reduce the number of features based on relevance.\n",
    "2. Feature Engineering: Create a profile for each company using relevant features. We may need to encode categorical data (like country and market) and normalize numerical values for better similarity computation.\n",
    "3. Similarity Metric: Decide on a similarity metric (e.g., cosine similarity, Euclidean distance) to compare companies.\n",
    "4. Recommendation Engine: Build the engine that computes similarity scores between companies and suggests similar companies based on a given input company."
   ]
  },
  {
   "cell_type": "markdown",
   "id": "078bb8d4",
   "metadata": {},
   "source": [
    "## Data Preprocessing"
   ]
  },
  {
   "cell_type": "code",
   "execution_count": 5,
   "id": "01a6abaf",
   "metadata": {},
   "outputs": [
    {
     "name": "stdout",
     "output_type": "stream",
     "text": [
      "<class 'pandas.core.frame.DataFrame'>\n",
      "Index: 44165 entries, 0 to 49437\n",
      "Data columns (total 39 columns):\n",
      " #   Column                Non-Null Count  Dtype  \n",
      "---  ------                --------------  -----  \n",
      " 0   permalink             44165 non-null  object \n",
      " 1   name                  44165 non-null  object \n",
      " 2   homepage_url          41424 non-null  object \n",
      " 3   category_list         41332 non-null  object \n",
      " 4   market                44165 non-null  int16  \n",
      " 5   funding_total_usd     44165 non-null  float64\n",
      " 6   status                43057 non-null  object \n",
      " 7   country_code          44165 non-null  int8   \n",
      " 8   state_code            30161 non-null  object \n",
      " 9   region                44165 non-null  object \n",
      " 10  city                  43322 non-null  object \n",
      " 11  funding_rounds        44165 non-null  float64\n",
      " 12  founded_at            35519 non-null  object \n",
      " 13  founded_month         35451 non-null  object \n",
      " 14  founded_quarter       35451 non-null  object \n",
      " 15  founded_year          35451 non-null  float64\n",
      " 16  first_funding_at      44165 non-null  object \n",
      " 17  last_funding_at       44165 non-null  object \n",
      " 18  seed                  44165 non-null  int64  \n",
      " 19  venture               44165 non-null  int64  \n",
      " 20  equity_crowdfunding   44165 non-null  int64  \n",
      " 21  undisclosed           44165 non-null  int64  \n",
      " 22  convertible_note      44165 non-null  int64  \n",
      " 23  debt_financing        44165 non-null  int64  \n",
      " 24  angel                 44165 non-null  int64  \n",
      " 25  grant                 44165 non-null  int64  \n",
      " 26  private_equity        44165 non-null  int64  \n",
      " 27  post_ipo_equity       44165 non-null  int64  \n",
      " 28  post_ipo_debt         44165 non-null  int64  \n",
      " 29  secondary_market      44165 non-null  int64  \n",
      " 30  product_crowdfunding  44165 non-null  int64  \n",
      " 31  round_A               44165 non-null  int64  \n",
      " 32  round_B               44165 non-null  int64  \n",
      " 33  round_C               44165 non-null  int64  \n",
      " 34  round_D               44165 non-null  int64  \n",
      " 35  round_E               44165 non-null  int64  \n",
      " 36  round_F               44165 non-null  int64  \n",
      " 37  round_G               44165 non-null  int64  \n",
      " 38  round_H               44165 non-null  int64  \n",
      "dtypes: float64(3), int16(1), int64(21), int8(1), object(13)\n",
      "memory usage: 12.9+ MB\n"
     ]
    },
    {
     "data": {
      "text/plain": [
       "(   market  funding_total_usd  funding_rounds  country_code\n",
       " 0     447          -0.076622       -0.560182           110\n",
       " 1     264          -0.062747        0.186496           110\n",
       " 2     524          -0.087166       -0.560182            35\n",
       " 3     201          -0.078163       -0.560182            38\n",
       " 4     660          -0.087043        0.186496           110,\n",
       " None)"
      ]
     },
     "execution_count": 5,
     "metadata": {},
     "output_type": "execute_result"
    }
   ],
   "source": [
    "#Correcting the column names by removing any leading or trailing spaces\n",
    "data.columns = data.columns.str.strip()\n",
    "data['funding_total_usd'] = data['funding_total_usd'].str.replace(',', '').str.replace('-', '0').astype(float)\n",
    "\n",
    "#Fill missing values\n",
    "data['market'] = data['market'].fillna('Unknown')\n",
    "\n",
    "#Drop rows with missing 'country_code'\n",
    "data = data.dropna(subset=['country_code'])\n",
    "\n",
    "#Normalize numerical data\n",
    "data['funding_rounds'] = (data['funding_rounds'] - data['funding_rounds'].mean()) / data['funding_rounds'].std()\n",
    "data['funding_total_usd'] = (data['funding_total_usd'] - data['funding_total_usd'].mean()) / data['funding_total_usd'].std()\n",
    "\n",
    "#Convert to categorical codes\n",
    "data['country_code'] = data['country_code'].astype('category').cat.codes\n",
    "data['market'] = data['market'].astype('category').cat.codes\n",
    "\n",
    "\n",
    "data[['market', 'funding_total_usd', 'funding_rounds', 'country_code']].head(), data.info()"
   ]
  },
  {
   "cell_type": "markdown",
   "id": "2f1c5e62",
   "metadata": {},
   "source": [
    "## Content-Based Recommendation Algorithm"
   ]
  },
  {
   "cell_type": "code",
   "execution_count": 6,
   "id": "f2dabde3",
   "metadata": {},
   "outputs": [],
   "source": [
    "from sklearn.metrics.pairwise import cosine_similarity\n",
    "import numpy as np\n",
    "\n",
    "#Feature matrix for similarity calculation\n",
    "feature_matrix = data[['market', 'funding_total_usd', 'funding_rounds', 'country_code']].values\n",
    "\n",
    "#Cosine similarity matrix\n",
    "similarity_matrix = cosine_similarity(feature_matrix)"
   ]
  },
  {
   "cell_type": "code",
   "execution_count": null,
   "id": "46f2d250",
   "metadata": {
    "scrolled": true
   },
   "outputs": [],
   "source": [
    "#Function to recommend companies based on similarity scores\n",
    "def recommend_companies(company_name, data, similarity_matrix, top_n=5):\n",
    "    #Check if the company exists \n",
    "    if company_name not in data['name'].values:\n",
    "        return \"Company not found in the dataset.\"\n",
    "\n",
    "    #Find the index of the company\n",
    "    index = data[data['name'] == company_name].index[0]\n",
    "\n",
    "    #Get similarity scores for the company with all other companies\n",
    "    similarity_scores = list(enumerate(similarity_matrix[index]))\n",
    "\n",
    "    #Sort the companies based on the similarity scores in descending order\n",
    "    similarity_scores = sorted(similarity_scores, key=lambda x: x[1], reverse=True)\n",
    "\n",
    "    #Get the scores of the top 'n' most similar companies\n",
    "    top_companies_indices = [i[0] for i in similarity_scores[1:top_n+1]]  # skip self (index 0)\n",
    "\n",
    "    #Get the names of the top similar companies\n",
    "    top_companies = data.iloc[top_companies_indices]['name'].tolist()\n",
    "\n",
    "    return top_companies\n",
    "\n",
    "#Test the recommendation system with an example company from the dataset\n",
    "test_company = data['name'].iloc[0]\n",
    "recommend_companies(test_company, data, similarity_matrix)\n"
   ]
  },
  {
   "cell_type": "code",
   "execution_count": null,
   "id": "fb6f4ec9",
   "metadata": {},
   "outputs": [],
   "source": [
    "test_company"
   ]
  },
  {
   "cell_type": "markdown",
   "id": "faa841be",
   "metadata": {},
   "source": [
    "## Clustering"
   ]
  },
  {
   "cell_type": "markdown",
   "id": "56cc184c",
   "metadata": {},
   "source": [
    "Clustering can be used to segment companies into similar groups based on their features. Investors can be recommended companies from clusters that have historically seen success or growth. "
   ]
  },
  {
   "cell_type": "markdown",
   "id": "dee001d3",
   "metadata": {},
   "source": [
    "**Step 1: Determining the Optimal Number of Clusters**\n",
    "\n",
    "Use the elbow method to determine the optimal number of clusters by plotting the sum of squared distances from each point to its assigned center as we change the number of clusters.\n",
    "\n",
    "**Step 2: K-Means Clustering**\n",
    "\n",
    "Apply the K-means algorithm to segment the companies.\n",
    "\n",
    "**Step 3: Analyze Cluster Output**\n",
    "\n",
    "Examine the characteristics of each cluster to understand what types of companies are grouped together."
   ]
  },
  {
   "cell_type": "code",
   "execution_count": null,
   "id": "519ef18e",
   "metadata": {},
   "outputs": [],
   "source": [
    "from sklearn.cluster import KMeans\n",
    "import matplotlib.pyplot as plt\n",
    "\n",
    "#Elbow Method\n",
    "sse = [] \n",
    "range_clusters = range(1, 11)\n",
    "\n",
    "for k in range_clusters:\n",
    "    kmeans = KMeans(n_clusters=k, random_state=42)\n",
    "    kmeans.fit(feature_matrix)\n",
    "    sse.append(kmeans.inertia_)\n",
    "\n",
    "# Plot the SSE to find the elbow point\n",
    "plt.figure(figsize=(10, 6))\n",
    "plt.plot(range_clusters, sse, marker='o')\n",
    "plt.title('Elbow Method to Determine Optimal Number of Clusters')\n",
    "plt.xlabel('Number of Clusters')\n",
    "plt.ylabel('Sum of Squared Errors')\n",
    "plt.grid(True)\n",
    "plt.show()"
   ]
  },
  {
   "cell_type": "code",
   "execution_count": null,
   "id": "a2f6a0de",
   "metadata": {},
   "outputs": [],
   "source": [
    "#Applying K-means clustering with 4 clusters\n",
    "kmeans_final = KMeans(n_clusters=4, random_state=42)\n",
    "kmeans_final.fit(feature_matrix)\n",
    "\n",
    "\n",
    "data['cluster'] = kmeans_final.labels_\n",
    "\n",
    "#Analyzing the characteristics of each cluster\n",
    "cluster_summary = data.groupby('cluster').agg({\n",
    "    'market': ['count', lambda x: x.value_counts().index[0]], \n",
    "    'funding_total_usd': ['mean', 'std'],  \n",
    "    'funding_rounds': ['mean', 'std'],     \n",
    "    'country_code': [lambda x: x.value_counts().index[0]] \n",
    "}).rename(columns={'<lambda_0>': 'most_common'})\n",
    "\n",
    "cluster_summary"
   ]
  },
  {
   "cell_type": "markdown",
   "id": "57f9361f",
   "metadata": {},
   "source": [
    "## Neural Network Model"
   ]
  },
  {
   "cell_type": "markdown",
   "id": "e7b07b18",
   "metadata": {},
   "source": [
    "We can use a simple neural network to:\n",
    "\n",
    "1. Predict company success metrics (like funding rounds or growth indicators) based on their features. This can help in recommending companies that are predicted to perform well.\n",
    "2. Deep Collaborative Filtering (if we had user preferences or investor interaction data), to predict investor-company affinity based on learned embeddings."
   ]
  },
  {
   "cell_type": "markdown",
   "id": "b2eb8a1f",
   "metadata": {},
   "source": [
    "**Step 1: Model Architecture**\n",
    "\n",
    "Build a simple neural network using TensorFlow/Keras. The model will consist of:\n",
    "- An input layer.\n",
    "- A couple of hidden layers.\n",
    "- An output layer with one neuron (since we're doing regression on total funding).\n",
    "\n",
    "**Step 2: Training the Model**\n",
    "\n",
    "Train the model using an appropriate loss function (mean squared error for regression) and evaluate its performance on the test set.\n",
    "\n",
    "**Step 3: Using the Model for Recommendations**\n",
    "\n",
    "Use the model's predictions to recommend companies with the highest predicted funding."
   ]
  },
  {
   "cell_type": "code",
   "execution_count": null,
   "id": "5e90bbd0",
   "metadata": {},
   "outputs": [],
   "source": [
    "from sklearn.model_selection import train_test_split\n",
    "\n",
    "#Feature and target variable setup\n",
    "X = data[['market', 'funding_rounds', 'country_code']]  #Using these features for prediction\n",
    "y = data['funding_total_usd']  #Target variable\n",
    "\n",
    "#Splitting the dataset into training and testing sets\n",
    "X_train, X_test, y_train, y_test = train_test_split(X, y, test_size=0.2, random_state=42)\n",
    "\n",
    "X_train.shape, X_test.shape, y_train.shape, y_test.shape\n"
   ]
  },
  {
   "cell_type": "code",
   "execution_count": null,
   "id": "b216b8c5",
   "metadata": {},
   "outputs": [],
   "source": [
    "pip install tensorflow"
   ]
  },
  {
   "cell_type": "code",
   "execution_count": null,
   "id": "6970530b",
   "metadata": {},
   "outputs": [],
   "source": [
    "import tensorflow as tf\n",
    "from tensorflow.keras.models import Sequential\n",
    "from tensorflow.keras.layers import Dense\n",
    "\n",
    "model = Sequential([\n",
    "    Dense(64, activation='relu', input_shape=(3,)),  \n",
    "    Dense(64, activation='relu'),\n",
    "    Dense(1) \n",
    "])\n",
    "\n",
    "model.compile(optimizer='adam', loss='mean_squared_error')\n"
   ]
  },
  {
   "cell_type": "code",
   "execution_count": null,
   "id": "bdf96b92",
   "metadata": {},
   "outputs": [],
   "source": [
    "history = model.fit(X_train, y_train, epochs=100, validation_split=0.2)"
   ]
  },
  {
   "cell_type": "code",
   "execution_count": null,
   "id": "d5163572",
   "metadata": {},
   "outputs": [],
   "source": [
    "test_loss = model.evaluate(X_test, y_test)\n",
    "print('Test Loss:', test_loss)"
   ]
  },
  {
   "cell_type": "code",
   "execution_count": null,
   "id": "c4e3c777",
   "metadata": {},
   "outputs": [],
   "source": [
    "predicted_funding = model.predict(X) "
   ]
  },
  {
   "cell_type": "code",
   "execution_count": null,
   "id": "d1067203",
   "metadata": {},
   "outputs": [],
   "source": [
    "data['predicted_funding'] = predicted_funding.flatten()  "
   ]
  },
  {
   "cell_type": "code",
   "execution_count": null,
   "id": "d50acb05",
   "metadata": {},
   "outputs": [],
   "source": [
    "recommended_companies = data.sort_values(by='predicted_funding', ascending=False)\n",
    "top_companies = recommended_companies.head(10) "
   ]
  }
 ],
 "metadata": {
  "kernelspec": {
   "display_name": "Python 3 (ipykernel)",
   "language": "python",
   "name": "python3"
  },
  "language_info": {
   "codemirror_mode": {
    "name": "ipython",
    "version": 3
   },
   "file_extension": ".py",
   "mimetype": "text/x-python",
   "name": "python",
   "nbconvert_exporter": "python",
   "pygments_lexer": "ipython3",
   "version": "3.11.8"
  }
 },
 "nbformat": 4,
 "nbformat_minor": 5
}
